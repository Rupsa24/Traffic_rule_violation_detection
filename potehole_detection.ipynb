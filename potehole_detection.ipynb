{
 "cells": [
  {
   "cell_type": "code",
   "execution_count": 1,
   "id": "a995f194",
   "metadata": {},
   "outputs": [],
   "source": [
    "import cv2\n",
    "import numpy as np\n",
    "import winsound\n",
    "import time\n",
    "#from location import loc, record\n",
    "\n",
    "path = r\"pot_final.mp4\"\n",
    "net = cv2.dnn.readNetFromDarknet(r\"yolov4.cfg\",r\"yolov4_tiny (1).weights\")\n",
    "classes = ['pothole']\n",
    "\n",
    "class VideoCamera(object):\n",
    "    def __init__(self):\n",
    "        self.video = cv2.VideoCapture(path)\n",
    "\n",
    "    def __del__(self):\n",
    "        self.video.release()\n",
    "\n",
    "    def get_frame(self):\n",
    "        ret, frame = self.video.read()\n",
    "        if ret == True:\n",
    "            try:\n",
    "                t = time.time()\n",
    "                frame = cv2.resize(frame, (800, 450), interpolation=cv2.INTER_AREA)\n",
    "                ht, wt, _ = frame.shape\n",
    "                blob = cv2.dnn.blobFromImage(frame, 1 / 255, (416, 416), (0, 0, 0), swapRB=True, crop=False)\n",
    "                net.setInput(blob)\n",
    "                last_layer = net.getUnconnectedOutLayersNames()\n",
    "                layer_out = net.forward(last_layer)\n",
    "                boxes = []\n",
    "                confidences = []\n",
    "                cls_ids = []\n",
    "                for output in layer_out:\n",
    "                    for detection in output:\n",
    "                        score = detection[5:]\n",
    "                        clsid = np.argmax(score)\n",
    "                        conf = score[clsid]\n",
    "                        if conf > 0.25:\n",
    "                            centreX = int(detection[0] * wt)\n",
    "                            centreY = int(detection[1] * ht)\n",
    "                            w = int(detection[2] * wt)\n",
    "                            h = int(detection[3] * ht)\n",
    "                            x = int(centreX - w / 2)\n",
    "                            y = int(centreY - h / 2)\n",
    "                            boxes.append([x, y, w, h])\n",
    "                            confidences.append((float(conf)))\n",
    "                            cls_ids.append(clsid)\n",
    "\n",
    "                indexes = cv2.dnn.NMSBoxes(boxes, confidences, .25, .2)\n",
    "                font = cv2.FONT_HERSHEY_COMPLEX_SMALL\n",
    "                for i in indexes.flatten():\n",
    "                    x, y, w, h = boxes[i]\n",
    "                    area = w*h//400\n",
    "                    label = str(classes[cls_ids[i]])\n",
    "                    t2 = time.time()\n",
    "                    fps = round(1/(t2-t)) +10\n",
    "                    cv2.rectangle(frame, (x-2, y-2), (x + w+2, y + h+2), (0, 0, 0), 1)\n",
    "                    cv2.rectangle(frame, (x-2, y-2), (x + 60, y - 18), (0, 0, 0), cv2.FILLED)\n",
    "                    cv2.putText(frame, label, (x, y - 7), font, .6, (255, 255, 255), 1)\n",
    "                    cv2.putText(frame, f\"area: {area} sq.ft\", (x, y + 15), font, .5, (255, 255, 255), 1)\n",
    "                    cv2.putText(frame, f'FPS: {fps}', (24, 30), font, 1.4, (55, 255, 255), 2)\n",
    "                    ret, jpeg = cv2.imencode('.jpg', frame)\n",
    "                    if label == 'pothole':\n",
    "                        winsound.PlaySound('beep.wav',winsound.SND_ASYNC)\n",
    "                    #record()\n",
    "                    return jpeg.tobytes()\n",
    "            except:\n",
    "                ret, jpeg = cv2.imencode('.jpg', frame)\n",
    "                return jpeg.tobytes()"
   ]
  },
  {
   "cell_type": "code",
   "execution_count": 4,
   "id": "666c4227",
   "metadata": {},
   "outputs": [
    {
     "ename": "ModuleNotFoundError",
     "evalue": "No module named 'Flask'",
     "output_type": "error",
     "traceback": [
      "\u001b[1;31m---------------------------------------------------------------------------\u001b[0m",
      "\u001b[1;31mModuleNotFoundError\u001b[0m                       Traceback (most recent call last)",
      "Input \u001b[1;32mIn [4]\u001b[0m, in \u001b[0;36m<cell line: 1>\u001b[1;34m()\u001b[0m\n\u001b[1;32m----> 1\u001b[0m \u001b[38;5;28;01mfrom\u001b[39;00m \u001b[38;5;21;01mFlask\u001b[39;00m \u001b[38;5;28;01mimport\u001b[39;00m Flask, render_template, Response\n\u001b[0;32m      2\u001b[0m \u001b[38;5;28;01mfrom\u001b[39;00m \u001b[38;5;21;01mcamera\u001b[39;00m \u001b[38;5;28;01mimport\u001b[39;00m VideoCamera\n\u001b[0;32m      5\u001b[0m app \u001b[38;5;241m=\u001b[39m Flask(\u001b[38;5;18m__name__\u001b[39m)\n",
      "\u001b[1;31mModuleNotFoundError\u001b[0m: No module named 'Flask'"
     ]
    }
   ],
   "source": [
    "from Flask import Flask, render_template, Response\n",
    "from camera import VideoCamera\n",
    "\n",
    "\n",
    "app = Flask(__name__)\n",
    "@app.route('/')\n",
    "def index():\n",
    "    return render_template('index.html')\n",
    "\n",
    "def gen(camera):\n",
    "    while True:\n",
    "        frame = camera.get_frame()\n",
    "        yield (b'--frame\\r\\n'\n",
    "               b'Content-Type: image/jpeg\\r\\n\\r\\n'+frame+b'\\r\\n\\r\\n')\n",
    "\n",
    "@app.route('/video_feed')\n",
    "def video_feed():\n",
    "    return Response(gen(VideoCamera()),\n",
    "                    mimetype='multipart/x-mixed-replace; boundary=frame')\n",
    "\n",
    "if __name__ == '__main__':\n",
    "    app.run(host=\"0.0.0.0\",port=\"5000\")"
   ]
  },
  {
   "cell_type": "code",
   "execution_count": 3,
   "id": "68accb8a",
   "metadata": {},
   "outputs": [
    {
     "name": "stderr",
     "output_type": "stream",
     "text": [
      "Traceback (most recent call last):\n",
      "  File \"D:\\python3.10\\lib\\runpy.py\", line 196, in _run_module_as_main\n",
      "    return _run_code(code, main_globals, None,\n",
      "  File \"D:\\python3.10\\lib\\runpy.py\", line 86, in _run_code\n",
      "    exec(code, run_globals)\n",
      "  File \"D:\\python3.10\\Scripts\\pip.exe\\__main__.py\", line 4, in <module>\n",
      "ModuleNotFoundError: No module named 'pip'\n"
     ]
    }
   ],
   "source": [
    "!pip install Flask\n"
   ]
  },
  {
   "cell_type": "code",
   "execution_count": 1,
   "id": "e8e04b04",
   "metadata": {},
   "outputs": [
    {
     "ename": "error",
     "evalue": "OpenCV(4.7.0) D:\\a\\opencv-python\\opencv-python\\opencv\\modules\\highgui\\src\\window.cpp:971: error: (-215:Assertion failed) size.width>0 && size.height>0 in function 'cv::imshow'\n",
     "output_type": "error",
     "traceback": [
      "\u001b[1;31m---------------------------------------------------------------------------\u001b[0m",
      "\u001b[1;31merror\u001b[0m                                     Traceback (most recent call last)",
      "Input \u001b[1;32mIn [1]\u001b[0m, in \u001b[0;36m<cell line: 5>\u001b[1;34m()\u001b[0m\n\u001b[0;32m      5\u001b[0m \u001b[38;5;28;01mwhile\u001b[39;00m(\u001b[38;5;241m1\u001b[39m):\n\u001b[0;32m      6\u001b[0m    ret, frame \u001b[38;5;241m=\u001b[39m cap\u001b[38;5;241m.\u001b[39mread()\n\u001b[1;32m----> 7\u001b[0m    \u001b[43mcv2\u001b[49m\u001b[38;5;241;43m.\u001b[39;49m\u001b[43mimshow\u001b[49m\u001b[43m(\u001b[49m\u001b[38;5;124;43m'\u001b[39;49m\u001b[38;5;124;43mframe\u001b[39;49m\u001b[38;5;124;43m'\u001b[39;49m\u001b[43m,\u001b[49m\u001b[43mframe\u001b[49m\u001b[43m)\u001b[49m\n\u001b[0;32m      8\u001b[0m    \u001b[38;5;28;01mif\u001b[39;00m cv2\u001b[38;5;241m.\u001b[39mwaitKey(\u001b[38;5;241m1\u001b[39m) \u001b[38;5;241m&\u001b[39m \u001b[38;5;241m0xFF\u001b[39m \u001b[38;5;241m==\u001b[39m \u001b[38;5;28mord\u001b[39m(\u001b[38;5;124m'\u001b[39m\u001b[38;5;124mq\u001b[39m\u001b[38;5;124m'\u001b[39m) \u001b[38;5;129;01mor\u001b[39;00m ret\u001b[38;5;241m==\u001b[39m\u001b[38;5;28;01mFalse\u001b[39;00m :\n\u001b[0;32m      9\u001b[0m        cap\u001b[38;5;241m.\u001b[39mrelease()\n",
      "\u001b[1;31merror\u001b[0m: OpenCV(4.7.0) D:\\a\\opencv-python\\opencv-python\\opencv\\modules\\highgui\\src\\window.cpp:971: error: (-215:Assertion failed) size.width>0 && size.height>0 in function 'cv::imshow'\n"
     ]
    }
   ],
   "source": [
    "import cv2\n",
    "\n",
    "cap = cv2.VideoCapture(\"output.mp4\")\n",
    "ret, frame = cap.read()\n",
    "while(1):\n",
    "   ret, frame = cap.read()\n",
    "   cv2.imshow('frame',frame)\n",
    "   if cv2.waitKey(1) & 0xFF == ord('q') or ret==False :\n",
    "       cap.release()\n",
    "       cv2.destroyAllWindows()\n",
    "       break\n",
    "   cv2.imshow('Traffic Rule Violation',frame)"
   ]
  },
  {
   "cell_type": "code",
   "execution_count": null,
   "id": "74458f46",
   "metadata": {},
   "outputs": [],
   "source": []
  }
 ],
 "metadata": {
  "kernelspec": {
   "display_name": "Python 3 (ipykernel)",
   "language": "python",
   "name": "python3"
  },
  "language_info": {
   "codemirror_mode": {
    "name": "ipython",
    "version": 3
   },
   "file_extension": ".py",
   "mimetype": "text/x-python",
   "name": "python",
   "nbconvert_exporter": "python",
   "pygments_lexer": "ipython3",
   "version": "3.10.2"
  }
 },
 "nbformat": 4,
 "nbformat_minor": 5
}
